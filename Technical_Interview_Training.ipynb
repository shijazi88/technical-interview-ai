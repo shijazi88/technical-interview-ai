{
  "cells": [
    {
      "cell_type": "markdown",
      "metadata": {},
      "source": [
        "# \ud83e\udd16 Technical Interview AI Training\n",
        "\n",
        "This notebook trains your AI technical interviewer using files from Cursor.\n",
        "\n",
        "**Workflow:**\n",
        "1. \u270f\ufe0f Write/edit code in Cursor\n",
        "2. \ud83d\udce6 Upload project files to Colab\n",
        "3. \ud83d\ude80 Train on Colab's GPUs\n",
        "4. \ud83d\udcbe Download results back to Cursor"
      ]
    },
    {
      "cell_type": "code",
      "execution_count": null,
      "metadata": {},
      "outputs": [],
      "source": [
        "# Step 1: Upload your colab_project.zip file\n",
        "# Go to Files panel (\ud83d\udcc1) and upload colab_project.zip\n",
        "\n",
        "# Step 2: Extract project files\n",
        "import zipfile\n",
        "import os\n",
        "\n",
        "# Extract the uploaded project\n",
        "with zipfile.ZipFile('colab_project.zip', 'r') as zip_ref:\n",
        "    zip_ref.extractall('.')\n",
        "\n",
        "print(\"\u2705 Project files extracted!\")\n",
        "print(\"\ud83d\udcc1 Available files:\")\n",
        "for file in os.listdir('.'):\n",
        "    if file.endswith('.py'):\n",
        "        print(f\"  - {file}\")"
      ]
    },
    {
      "cell_type": "code",
      "execution_count": null,
      "metadata": {},
      "outputs": [],
      "source": [
        "# Step 3: Install required packages\n",
        "!pip install transformers>=4.30.0\n",
        "!pip install peft>=0.4.0\n",
        "!pip install accelerate>=0.20.0\n",
        "!pip install bitsandbytes\n",
        "!pip install datasets\n",
        "\n",
        "print(\"\u2705 Packages installed!\")"
      ]
    },
    {
      "cell_type": "code",
      "execution_count": null,
      "metadata": {},
      "outputs": [],
      "source": [
        "# Step 4: Check GPU availability\n",
        "import torch\n",
        "\n",
        "if torch.cuda.is_available():\n",
        "    print(f\"\ud83d\udd25 GPU Available: {torch.cuda.get_device_name(0)}\")\n",
        "    print(f\"\ud83d\udcca GPU Memory: {torch.cuda.get_device_properties(0).total_memory / 1e9:.1f} GB\")\n",
        "else:\n",
        "    print(\"\u26a0\ufe0f No GPU detected. Go to Runtime > Change runtime type > GPU\")"
      ]
    },
    {
      "cell_type": "code",
      "execution_count": null,
      "metadata": {},
      "outputs": [],
      "source": [
        "# Step 5: Train your Technical Interview AI!\n",
        "# This runs the code you wrote in Cursor on Colab's GPUs\n",
        "\n",
        "!python colab_training_pipeline.py --num_scenarios 150 --epochs 3\n",
        "\n",
        "print(\"\ud83c\udf89 Training completed on Colab's GPUs!\")"
      ]
    },
    {
      "cell_type": "code",
      "execution_count": null,
      "metadata": {},
      "outputs": [],
      "source": [
        "# Step 6: Test your trained model\n",
        "from technical_interview_bot import TechnicalInterviewBot\n",
        "\n",
        "# Load your trained model\n",
        "bot = TechnicalInterviewBot('./technical_interview_model')\n",
        "\n",
        "# Test it\n",
        "response = bot.start_interview(\n",
        "    programming_language='python',\n",
        "    experience_level='mid_level',\n",
        "    candidate_name='Test User'\n",
        ")\n",
        "\n",
        "print(response)"
      ]
    },
    {
      "cell_type": "code",
      "execution_count": null,
      "metadata": {},
      "outputs": [],
      "source": [
        "# Step 7: Download your trained model\n",
        "# Package the trained model for download\n",
        "\n",
        "import shutil\n",
        "\n",
        "# Create archive of trained model\n",
        "shutil.make_archive('trained_interview_ai', 'zip', 'technical_interview_model')\n",
        "\n",
        "print(\"\u2705 Model packaged as 'trained_interview_ai.zip'\")\n",
        "print(\"\ud83d\udce5 Download it from the Files panel to use in Cursor!\")"
      ]
    }
  ],
  "metadata": {
    "kernelspec": {
      "display_name": "Python 3",
      "language": "python",
      "name": "python3"
    },
    "language_info": {
      "name": "python",
      "version": "3.10.12"
    },
    "accelerator": "GPU",
    "gpuClass": "standard"
  },
  "nbformat": 4,
  "nbformat_minor": 4
}