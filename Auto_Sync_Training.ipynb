{
  "cells": [
    {
      "cell_type": "markdown",
      "metadata": {},
      "source": [
        "# \ud83e\udd16 Technical Interview AI - Auto-Sync\n",
        "\n",
        "**Near Real-time Workflow:**\n",
        "1. \u270f\ufe0f Edit code in Cursor\n",
        "2. \ud83d\udd04 Auto-sync every 30 seconds\n",
        "3. \ud83d\ude80 Pull changes in Colab (1 click)\n",
        "4. \ud83d\udd25 Train on GPU!\n",
        "\n",
        "Replace `YOUR_REPO_URL` with your GitHub repository URL."
      ]
    },
    {
      "cell_type": "code",
      "execution_count": null,
      "metadata": {},
      "outputs": [],
      "source": [
        "# \ud83d\udd04 QUICK SYNC: Get latest changes from Cursor (30 seconds old max!)\n",
        "REPO_URL = 'https://github.com/YOUR_USERNAME/YOUR_REPO'  # Update this!\n",
        "PROJECT_DIR = 'interview-ai'\n",
        "\n",
        "import os\n",
        "if os.path.exists(PROJECT_DIR):\n",
        "    print(\"\ud83d\udd04 Pulling latest changes from Cursor...\")\n",
        "    %cd $PROJECT_DIR\n",
        "    !git pull origin main\n",
        "    print(\"\u2705 Synced! Your latest Cursor code is now here.\")\n",
        "else:\n",
        "    print(\"\ud83d\udce5 First time: Cloning repository...\")\n",
        "    !git clone $REPO_URL $PROJECT_DIR\n",
        "    %cd $PROJECT_DIR\n",
        "    print(\"\u2705 Repository cloned!\")\n",
        "\n",
        "!ls -la *.py"
      ]
    },
    {
      "cell_type": "code",
      "execution_count": null,
      "metadata": {},
      "outputs": [],
      "source": [
        "# \ud83d\udce6 Setup environment\n",
        "!pip install -q transformers peft accelerate bitsandbytes datasets\n",
        "\n",
        "import torch\n",
        "print(f\"\ud83d\udd25 GPU: {torch.cuda.get_device_name(0) if torch.cuda.is_available() else 'None - Enable GPU!'}\")"
      ]
    },
    {
      "cell_type": "code",
      "execution_count": null,
      "metadata": {},
      "outputs": [],
      "source": [
        "# \ud83d\ude80 Train with your latest Cursor code!\n",
        "!python colab_training_pipeline.py --num_scenarios 100 --epochs 3"
      ]
    }
  ],
  "metadata": {
    "kernelspec": {
      "display_name": "Python 3",
      "language": "python",
      "name": "python3"
    },
    "accelerator": "GPU"
  },
  "nbformat": 4,
  "nbformat_minor": 4
}