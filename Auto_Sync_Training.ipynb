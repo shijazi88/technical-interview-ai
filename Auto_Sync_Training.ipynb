{
  "cells": [
    {
      "cell_type": "markdown",
      "metadata": {
        "id": "P_GTiV5Iv9of"
      },
      "source": [
        "# 🤖 Technical Interview AI - Auto-Sync\n",
        "\n",
        "**Near Real-time Workflow:**\n",
        "1. ✏️ Edit code in Cursor\n",
        "2. 🔄 Auto-sync every 30 seconds\n",
        "3. 🚀 Pull changes in Colab (1 click)\n",
        "4. 🔥 Train on GPU!\n",
        "\n",
        "Replace `YOUR_REPO_URL` with your GitHub repository URL."
      ]
    },
    {
      "cell_type": "code",
      "execution_count": null,
      "metadata": {
        "id": "rgF-w84Fv9og"
      },
      "outputs": [],
      "source": [
        "# 🔄 QUICK SYNC: Get latest changes from Cursor (30 seconds old max!)\n",
        "REPO_URL = 'https://github.com/shijazi88/technical-interview-ai'  # Update this!\n",
        "PROJECT_DIR = 'interview-ai'\n",
        "\n",
        "import os\n",
        "if os.path.exists(PROJECT_DIR):\n",
        "    print(\"🔄 Pulling latest changes from Cursor...\")\n",
        "    %cd $PROJECT_DIR\n",
        "    !git pull origin main\n",
        "    print(\"✅ Synced! Your latest Cursor code is now here.\")\n",
        "else:\n",
        "    print(\"📥 First time: Cloning repository...\")\n",
        "    !git clone $REPO_URL $PROJECT_DIR\n",
        "    %cd $PROJECT_DIR\n",
        "    print(\"✅ Repository cloned!\")\n",
        "\n",
        "!ls -la *.py"
      ]
    },
    {
      "cell_type": "code",
      "execution_count": null,
      "metadata": {
        "id": "5H0SmvpCv9og"
      },
      "outputs": [],
      "source": [
        "# 📦 Setup environment\n",
        "!pip install -q transformers peft accelerate bitsandbytes datasets\n",
        "\n",
        "import torch\n",
        "print(f\"🔥 GPU: {torch.cuda.get_device_name(0) if torch.cuda.is_available() else 'None - Enable GPU!'}\")"
      ]
    },
    {
      "cell_type": "code",
      "execution_count": null,
      "metadata": {
        "id": "LRdsNHifv9og"
      },
      "outputs": [],
      "source": [
        "# 🚀 Train with your latest Cursor code!\n",
        "!python colab_training_pipeline.py --num_scenarios 100 --epochs 3"
      ]
    }
  ],
  "metadata": {
    "kernelspec": {
      "display_name": "Python 3",
      "language": "python",
      "name": "python3"
    },
    "accelerator": "GPU",
    "colab": {
      "provenance": []
    }
  },
  "nbformat": 4,
  "nbformat_minor": 0
}